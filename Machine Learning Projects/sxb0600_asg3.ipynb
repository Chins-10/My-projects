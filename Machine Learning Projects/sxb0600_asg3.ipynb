{
  "nbformat": 4,
  "nbformat_minor": 0,
  "metadata": {
    "colab": {
      "provenance": []
    },
    "kernelspec": {
      "name": "python3",
      "display_name": "Python 3"
    },
    "language_info": {
      "name": "python"
    }
  },
  "cells": [
    {
      "cell_type": "code",
      "source": [
        "# library\n",
        "import numpy as np\n",
        "import matplotlib.pyplot as plt\n",
        "from mlxtend.plotting.decision_regions import plot_decision_regions\n",
        "from sklearn.datasets import make_circles\n",
        "from sklearn.model_selection import train_test_split\n",
        "from sklearn.svm import SVC \n",
        "from sklearn.metrics import accuracy_score"
      ],
      "metadata": {
        "id": "qbacL1VR5bNK"
      },
      "execution_count": 1,
      "outputs": []
    },
    {
      "cell_type": "code",
      "source": [
        "def linear_kernel(x1, x2):\n",
        "    return x1.T @ x2"
      ],
      "metadata": {
        "id": "OCZS7-v_5c43"
      },
      "execution_count": 2,
      "outputs": []
    },
    {
      "cell_type": "code",
      "execution_count": 3,
      "metadata": {
        "id": "EQ5U_npK5GFF"
      },
      "outputs": [],
      "source": [
        "# main class\n",
        "class svm():\n",
        "    def __init__(self, kernel='linear', c=1.0, tol=1e-3, maxiter=1000):\n",
        "        self._kernel = kernel\n",
        "        self._tol = tol\n",
        "        self._maxiter = maxiter\n",
        "        if self._kernel == 'linear':\n",
        "            self._k = linear_kernel\n",
        "        self._c = c\n",
        "        self.gamma=1\n",
        "        self.degree=3\n",
        "        self.kernel = {'poly'  : lambda x,y: np.dot(x, y.T)**self.degree, 'rbf'   : lambda x,y: np.exp(-self.gamma*np.sum((y - x[:,np.newaxis])**2, axis=-1)), 'linear': lambda x,y: np.dot(x, y.T)}[kernel]\n",
        "        self.value_C = 10000.0\n",
        "    def _init_params(self):\n",
        "        self._error_cache = np.zeros(self._data.shape[0])\n",
        "        self._alphas = np.ones(self._data.shape[0]) * .1\n",
        "        self._b = 0\n",
        "        if self._kernel == 'linear':\n",
        "            self._weights = np.random.rand(self._data.shape[1])\n",
        "    def predict_score(self, x):\n",
        "        u = 0\n",
        "        if self._kernel == 'linear':\n",
        "            u = self._weights @ x.T - self._b\n",
        "        else:\n",
        "            for i in range(self._data.shape[0]):\n",
        "                u += self._targets[i] * self._alphas[i] * self._k(self._data[i], x)\n",
        "            u -= self._b\n",
        "        return u\n",
        "    def predict(self, x):\n",
        "        if self._kernel == 'linear':\n",
        "            score = self.predict_score(x)\n",
        "            if type(score) is np.ndarray:\n",
        "                score[score < 0] = -1\n",
        "                score[score >= 0] = 1\n",
        "                return np.array([ 0 if x == -1 else 1 for x in score])\n",
        "            else:\n",
        "                return -1 if score < 0 else 1\n",
        "        else:\n",
        "            temp_cal = np.sum(self.kernel(x, self._data) * self._targets * self.vale_lambda_function, axis=1) + self.b\n",
        "            final_ans = (np.sign(temp_cal) + 1) // 2\n",
        "            return final_ans\n",
        "        \n",
        "    def smo_step(self, i1, i2):\n",
        "        if i1 == i2:\n",
        "            return 0\n",
        "        x1 = self._data[i1]\n",
        "        x2 = self._data[i2]\n",
        "        y1 = self._targets[i1]\n",
        "        y2 = self._targets[i2]\n",
        "        alpha1 = self._alphas[i1]\n",
        "        alpha2 = self._alphas[i2]\n",
        "        # Compute errors for x1 and x2\n",
        "        e1 = self.predict_score(x1) - y1\n",
        "        e2 = self.predict_score(x2) - y2\n",
        "        s = y1 * y2\n",
        "        if s == 1:\n",
        "            L = max(0, alpha2 + alpha1 - self._c)\n",
        "            H = min(self._c, alpha2 + alpha1)\n",
        "        else:\n",
        "            L = max(0, alpha2 - alpha1)\n",
        "            H = min(self._c, self._c + alpha2 - alpha1)\n",
        "        if L == H:\n",
        "            return 0\n",
        "        k11 = self._k(x1, x1)\n",
        "        k22 = self._k(x2, x2)\n",
        "        k12 = self._k(x1, x2)\n",
        "        eta = k11 + k22 - 2 * k12\n",
        "        if eta > 0:\n",
        "            a2 = alpha2 + y2 * (e1 - e2) / eta\n",
        "            if a2 <= L:\n",
        "                a2 = L\n",
        "            elif a2 >= H:\n",
        "                a2 = H\n",
        "        # TODO: the negative case\n",
        "        else:\n",
        "            print(f\"[DEBUG] smo_step: eta = {eta}\")\n",
        "        if np.abs(a2 - alpha2) < 1e-3 * (a2 + alpha2 + 1e-3):\n",
        "            return 0\n",
        "        a1 = alpha1 + s * (alpha2 - a2)\n",
        "        # Update threshold to reflect change in Lagrange multipliers\n",
        "        b1 = e1 + y1 * (a1 - alpha1) * k11 + y2 * (a2 - alpha2) * k12 + self._b\n",
        "        b2 = e2 + y1 * (a1 - alpha1) * k12 + y2 * (a2 - alpha2) * k22 + self._b\n",
        "        self._b = (b1 + b2) / 2\n",
        "        # Update weight vector to reflect change in a1 & a2, if SVM is linear\n",
        "        if self._kernel == 'linear':\n",
        "            self._weights = np.sum((self._targets * self._alphas)[:, None] * self._data, axis=0)\n",
        "        # Store a1 and a2 in alpha array\n",
        "        self._alphas[i1] = a1\n",
        "        self._alphas[i2] = a2\n",
        "        # update error cache using new multipliers\n",
        "        for i in range (self._data.shape[0]):\n",
        "            self._error_cache[i] = self.predict_score(self._data[i]) - self._targets[i]\n",
        "        return 1\n",
        "\n",
        "    def examine(self, i2):\n",
        "        x2 = self._data[i2]\n",
        "        y2 = self._targets[i2]\n",
        "        alpha2 = self._alphas[i2]\n",
        "        e2 = self.predict_score(x2) - y2\n",
        "        r2 = e2 * y2\n",
        "        # Heuristic for picking the first multiplier\n",
        "        if (r2 < -self._tol and alpha2 < self._c) or (r2 > self._tol and alpha2 > 0):\n",
        "            f_idxs = np.where((self._alphas != 0) & (self._alphas != self._c))[0]\n",
        "            if len(f_idxs) > 1:\n",
        "                # Hueristic for second multiplier: get i1 with lowest absolute error |e1 - e2|\n",
        "                # TODO: Clean this up\n",
        "                if e2 > 0:\n",
        "                    min_error = 999999\n",
        "                    for i, v in enumerate(f_idxs):\n",
        "                        if v == i2:\n",
        "                            continue\n",
        "                        if self._error_cache[v] == 0:\n",
        "                            self._error_cache[v] = self.predict_score(self._data[v]) - self._targets[v]\n",
        "                        error = np.abs(e2 - self._error_cache[v])\n",
        "                        if error < min_error:\n",
        "                            min_error = error\n",
        "                            i1 = v\n",
        "                else:\n",
        "                    max_error = -999999\n",
        "                    for i, v in enumerate(f_idxs):\n",
        "                        if v == i2:\n",
        "                            continue\n",
        "                        if self._error_cache[v] == 0:\n",
        "                            self._error_cache[v] = self.predict_score(self._data[v]) - self._targets[v]\n",
        "                        error = np.abs(e2 - self._error_cache[v])\n",
        "                        if error > max_error:\n",
        "                            max_error = error\n",
        "                            i1 = v\n",
        "                if self.smo_step(i1, i2):\n",
        "                    return 1\n",
        "                # Loop over all non-zero and non-C alpha, starting at random point\n",
        "                for i, v in enumerate(np.random.permutation(f_idxs)):\n",
        "                    if self.smo_step(v, i2):\n",
        "                        return 1\n",
        "                # Loop over all possible i1, starting at a random point\n",
        "                for i, v in enumerate(np.random.permutation(range(self._data.shape[0]))):\n",
        "                    if v == i2:\n",
        "                        continue\n",
        "                    if self.smo_step(v, i2):\n",
        "                        return 1\n",
        "        return 0\n",
        "    def fit(self, data, targets):\n",
        "        self._data = data\n",
        "        if self._kernel == 'linear':\n",
        "            self._targets = targets\n",
        "            self._init_params()\n",
        "            n_changed = 0\n",
        "            examine_all = True\n",
        "            n_iter = 0\n",
        "            while (n_changed > 0 or examine_all is True) and n_iter < self._maxiter:\n",
        "                n_changed = 0\n",
        "                n_iter += 1\n",
        "                if examine_all is True:\n",
        "                    # loop over all training examples\n",
        "                    for i in range(data.shape[0]):\n",
        "                        n_changed += self.examine(i)\n",
        "                else:\n",
        "                    # loop over examples where alpha is not 0 & not value_C\n",
        "                    f_idxs = np.where((self._alphas != 0) & (self._alphas != self._c))[0]\n",
        "                    for i, v in enumerate(f_idxs):\n",
        "                        n_changed += self.examine(v)\n",
        "                if examine_all is True:\n",
        "                    examine_all = False\n",
        "                elif n_changed == 0:\n",
        "                    examine_all = True\n",
        "        else:\n",
        "            self._targets = targets * 2 - 1\n",
        "            self.vale_lambda_function = np.zeros_like(self._targets, dtype=float)\n",
        "            self.temp_K_val = self.kernel(self._data, self._data) * self._targets[:,np.newaxis] * self._targets\n",
        "            for temp_loop in range(self._maxiter):\n",
        "              for inner_loop_value in range(len(self.vale_lambda_function)):\n",
        "                idxL = np.random.randint(0, len(self.vale_lambda_function))\n",
        "                temp_value_q = self.temp_K_val[[[inner_loop_value, inner_loop_value], [idxL, idxL]], [[inner_loop_value, idxL], [inner_loop_value, idxL]]]\n",
        "                temp_value_v = self.vale_lambda_function[[inner_loop_value, idxL]]\n",
        "                temp_value_k = 1 - np.sum(self.vale_lambda_function * self.temp_K_val[[inner_loop_value, idxL]], axis=1)\n",
        "                temp_value_u = np.array([-self._targets[idxL], self._targets[inner_loop_value]])\n",
        "                t_max = np.dot(temp_value_k, temp_value_u) / (np.dot(np.dot(temp_value_q, temp_value_u), temp_value_u) + 1E-15)\n",
        "                t = t_max\n",
        "                t = (np.clip(temp_value_v + t*temp_value_u, 0, self.value_C) - temp_value_v)[1]/temp_value_u[1]\n",
        "                temp_cal = (np.clip(temp_value_v + t*temp_value_u, 0, self.value_C) - temp_value_v)[0]/temp_value_u[0]\n",
        "                self.vale_lambda_function[[inner_loop_value, idxL]] = temp_value_v + temp_value_u * temp_cal\n",
        "            temp_value_index, = np.nonzero(self.vale_lambda_function > 1E-15)\n",
        "            self.b = np.mean((1.0 - np.sum(self.temp_K_val[temp_value_index] * self.vale_lambda_function, axis=1)) * self._targets[temp_value_index])"
      ]
    },
    {
      "cell_type": "code",
      "source": [
        "# class for multi class\n",
        "class Multi_SVM:\n",
        "    def __init__(self, kernel):\n",
        "        self.kernel = kernel\n",
        "        self.collection_of_models = []\n",
        "        self.final_predictions = []\n",
        "    def fit(self, all_features, all_targets):\n",
        "        for x in [0,1,2]:\n",
        "            new_labels = [ 1 if y == x else 0 for y in all_targets ]\n",
        "            features_train, features_test, label_train, label_test = train_test_split(all_features, np.array(new_labels), random_state=0, test_size= 0.1)\n",
        "            temp_trained_dumping = svm(self.kernel)\n",
        "            temp_trained_dumping.fit(features_train, label_train)\n",
        "            predicted_labels = temp_trained_dumping.predict(features_test)\n",
        "            self.collection_of_models.append([x,temp_trained_dumping,accuracy_score(label_test, predicted_labels)])\n",
        "    def prediction(self, all_features):\n",
        "        temp_list = [x[1].predict(all_features) for x in self.collection_of_models]\n",
        "        self.final_predictions = [ y.index(1) if 1 in y else 0 for y in [[int(row[i]) for row in temp_list] for i in range(len(temp_list[0]))] ]\n",
        "        return self.final_predictions   "
      ],
      "metadata": {
        "id": "K8EL9RIk5Up3"
      },
      "execution_count": 4,
      "outputs": []
    },
    {
      "cell_type": "code",
      "source": [
        "# main driver function for main class\n",
        "def driver_function(features_train, features_test, label_train, label_test, kernel_value):\n",
        "    proposed_model = svm(kernel=kernel_value)\n",
        "    proposed_model.fit(features_train, label_train)\n",
        "    y_pred = proposed_model.predict(features_test)\n",
        "    final_acc = accuracy_score(label_test, y_pred)\n",
        "    print(\"Accuracy of proposed model ->\",final_acc)\n",
        "    plot_decision_regions(features_test, label_test, proposed_model)\n",
        "    plt.title(kernel_value+\" Kernel - Designed Class Prediction\")\n",
        "    plt.show()\n",
        "    standard_model = SVC(kernel=kernel_value)\n",
        "    standard_model.fit(features_train, label_train)\n",
        "    y_pred = standard_model.predict(features_test)\n",
        "    final_acc = accuracy_score(label_test, y_pred)\n",
        "    print(\"Accuracy of standard model ->\",final_acc)\n",
        "    plot_decision_regions(features_test, label_test, standard_model)\n",
        "    plt.title(kernel_value+\" Kernel - Sklearn Model Prediction\")\n",
        "    plt.show()"
      ],
      "metadata": {
        "id": "Lmamkn0n5TO3"
      },
      "execution_count": 5,
      "outputs": []
    },
    {
      "cell_type": "code",
      "source": [
        "# funtion to run multi class classifier\n",
        "def Multi_class_Run(all_features, all_targets, kernel):\n",
        "    our_trained_model = Multi_SVM(kernel)\n",
        "    our_trained_model.fit(all_features, all_targets)\n",
        "    label_pred = our_trained_model.prediction(all_features)\n",
        "    final_acc = accuracy_score(all_targets, label_pred)\n",
        "    print(\"Accuracy for proposed multi class model -\"+ kernel+\" Kernel->\", final_acc)\n",
        "    standard_SVC_model = SVC(kernel=kernel)\n",
        "    standard_SVC_model.fit(all_features, all_targets)\n",
        "    predicted_labels = standard_SVC_model.predict(all_features)\n",
        "    final_acc = accuracy_score(all_targets, predicted_labels)\n",
        "    print(\"Accuracy for standard SVC model from sklearn - \"+ kernel+\" Kernel->\", final_acc)"
      ],
      "metadata": {
        "id": "-vKDZvfy5R-X"
      },
      "execution_count": 6,
      "outputs": []
    },
    {
      "cell_type": "code",
      "source": [
        "# Getting data\n",
        "all_features, all_label = make_circles(n_samples=1_000, factor=0.3, noise=0.05, random_state=0)\n",
        "features_train, features_test, label_train, label_test = train_test_split(all_features, all_label, stratify=all_label, test_size=0.1)"
      ],
      "metadata": {
        "id": "jFdTOGpZ5QyW"
      },
      "execution_count": 7,
      "outputs": []
    },
    {
      "cell_type": "code",
      "source": [
        "# Run 1\n",
        "driver_function(features_train, features_test, label_train, label_test, 'linear')"
      ],
      "metadata": {
        "colab": {
          "base_uri": "https://localhost:8080/",
          "height": 654
        },
        "id": "fhwJ886S5PeH",
        "outputId": "afd5454d-4a12-4f64-a548-4bdcc9bceedf"
      },
      "execution_count": 8,
      "outputs": [
        {
          "output_type": "stream",
          "name": "stdout",
          "text": [
            "Accuracy of proposed model -> 0.32\n"
          ]
        },
        {
          "output_type": "stream",
          "name": "stderr",
          "text": [
            "/usr/local/lib/python3.7/dist-packages/mlxtend/plotting/decision_regions.py:244: MatplotlibDeprecationWarning: Passing unsupported keyword arguments to axis() will raise a TypeError in 3.3.\n",
            "  ax.axis(xmin=xx.min(), xmax=xx.max(), y_min=yy.min(), y_max=yy.max())\n"
          ]
        },
        {
          "output_type": "display_data",
          "data": {
            "text/plain": [
              "<Figure size 432x288 with 1 Axes>"
            ],
            "image/png": "[encoded data removed]"
          },
          "metadata": {
            "needs_background": "light"
          }
        },
        {
          "output_type": "stream",
          "name": "stdout",
          "text": [
            "Accuracy of standard model -> 0.69\n"
          ]
        },
        {
          "output_type": "stream",
          "name": "stderr",
          "text": [
            "/usr/local/lib/python3.7/dist-packages/mlxtend/plotting/decision_regions.py:244: MatplotlibDeprecationWarning: Passing unsupported keyword arguments to axis() will raise a TypeError in 3.3.\n",
            "  ax.axis(xmin=xx.min(), xmax=xx.max(), y_min=yy.min(), y_max=yy.max())\n"
          ]
        },
        {
          "output_type": "display_data",
          "data": {
            "text/plain": [
              "<Figure size 432x288 with 1 Axes>"
            ],
            "image/png": "[encoded data removed]"
          },
          "metadata": {
            "needs_background": "light"
          }
        }
      ]
    },
    {
      "cell_type": "code",
      "source": [
        "# Run 2\n",
        "driver_function(features_train, features_test, label_train, label_test, 'rbf')"
      ],
      "metadata": {
        "colab": {
          "base_uri": "https://localhost:8080/",
          "height": 654
        },
        "id": "9zmFmL_c5OAX",
        "outputId": "abf534f0-d52f-4ecf-fefa-f70cba4694ed"
      },
      "execution_count": 9,
      "outputs": [
        {
          "output_type": "stream",
          "name": "stdout",
          "text": [
            "Accuracy of proposed model -> 1.0\n"
          ]
        },
        {
          "output_type": "stream",
          "name": "stderr",
          "text": [
            "/usr/local/lib/python3.7/dist-packages/mlxtend/plotting/decision_regions.py:244: MatplotlibDeprecationWarning: Passing unsupported keyword arguments to axis() will raise a TypeError in 3.3.\n",
            "  ax.axis(xmin=xx.min(), xmax=xx.max(), y_min=yy.min(), y_max=yy.max())\n"
          ]
        },
        {
          "output_type": "display_data",
          "data": {
            "text/plain": [
              "<Figure size 432x288 with 1 Axes>"
            ],
            "image/png": "[encoded data removed]"
          },
          "metadata": {
            "needs_background": "light"
          }
        },
        {
          "output_type": "stream",
          "name": "stdout",
          "text": [
            "Accuracy of standard model -> 1.0\n"
          ]
        },
        {
          "output_type": "stream",
          "name": "stderr",
          "text": [
            "/usr/local/lib/python3.7/dist-packages/mlxtend/plotting/decision_regions.py:244: MatplotlibDeprecationWarning: Passing unsupported keyword arguments to axis() will raise a TypeError in 3.3.\n",
            "  ax.axis(xmin=xx.min(), xmax=xx.max(), y_min=yy.min(), y_max=yy.max())\n"
          ]
        },
        {
          "output_type": "display_data",
          "data": {
            "text/plain": [
              "<Figure size 432x288 with 1 Axes>"
            ],
            "image/png": "[encoded data removed]"
          },
          "metadata": {
            "needs_background": "light"
          }
        }
      ]
    },
    {
      "cell_type": "code",
      "source": [
        "# importing second data\n",
        "from sklearn import datasets\n",
        "DataFrameIris = datasets.load_iris()\n",
        "all_features, all_targets = DataFrameIris.data, DataFrameIris.target"
      ],
      "metadata": {
        "id": "hWuOjZ-65ND3"
      },
      "execution_count": 10,
      "outputs": []
    },
    {
      "cell_type": "code",
      "source": [
        "# Run 1\n",
        "Multi_class_Run(all_features, all_targets, 'linear')"
      ],
      "metadata": {
        "colab": {
          "base_uri": "https://localhost:8080/"
        },
        "id": "ToWzrlQ25MAN",
        "outputId": "a2d94fc0-db94-43df-d688-13db3a2805c5"
      },
      "execution_count": 11,
      "outputs": [
        {
          "output_type": "stream",
          "name": "stdout",
          "text": [
            "Accuracy for proposed multi class model -linear Kernel-> 0.44\n",
            "Accuracy for standard SVC model from sklearn - linear Kernel-> 0.9933333333333333\n"
          ]
        }
      ]
    },
    {
      "cell_type": "code",
      "source": [
        "# Run 2\n",
        "Multi_class_Run(all_features, all_targets, 'rbf')"
      ],
      "metadata": {
        "colab": {
          "base_uri": "https://localhost:8080/"
        },
        "id": "zYlFGmtW5LFX",
        "outputId": "a157254b-7e0b-46fd-aa53-936eb76fdf95"
      },
      "execution_count": 12,
      "outputs": [
        {
          "output_type": "stream",
          "name": "stdout",
          "text": [
            "Accuracy for proposed multi class model -rbf Kernel-> 1.0\n",
            "Accuracy for standard SVC model from sklearn - rbf Kernel-> 0.9733333333333334\n"
          ]
        }
      ]
    }
  ]
}