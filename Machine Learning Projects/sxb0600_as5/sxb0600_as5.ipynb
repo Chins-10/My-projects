{
  "cells": [
    {
      "cell_type": "markdown",
      "metadata": {},
      "source": [
        "//References\n",
        "https://towardsdatascience.com/decision-tree-and-random-forest-from-scratch-4c12b351fe5e\n",
        "https://www.kaggle.com/code/yashashwinidixit/decision-tree-from-scratch-in-python\n",
        "https://towardsdatascience.com/adaboost-from-scratch-37a936da3d50"
      ]
    },
    {
      "cell_type": "code",
      "execution_count": null,
      "metadata": {
        "colab": {
          "base_uri": "https://localhost:8080/"
        },
        "id": "z7cPxEjWoqNl",
        "outputId": "fe89278e-4b79-4444-aa3c-58c6c3981909"
      },
      "outputs": [
        {
          "name": "stdout",
          "output_type": "stream",
          "text": [
            "Mounted at /content/gdrive/\n"
          ]
        }
      ],
      "source": [
        "from google.colab import drive\n",
        "drive.mount('/content/gdrive/', force_remount=True)"
      ]
    },
    {
      "cell_type": "code",
      "execution_count": null,
      "metadata": {
        "id": "3yoHUhE8n1x8"
      },
      "outputs": [],
      "source": [
        "import numpy as np\n",
        "def calculateAccuracy(y_true, outputLabels):\n",
        "    calculateAccuracy = np.sum(y_true == outputLabels) / len(y_true)\n",
        "    return calculateAccuracy"
      ]
    },
    {
      "cell_type": "code",
      "execution_count": null,
      "metadata": {
        "colab": {
          "base_uri": "https://localhost:8080/"
        },
        "id": "Gv_FXkhqplyU",
        "outputId": "4cdcdce0-5fc2-4238-fbdf-081a8332eab4"
      },
      "outputs": [
        {
          "name": "stderr",
          "output_type": "stream",
          "text": [
            "/usr/local/lib/python3.7/dist-packages/ipykernel_launcher.py:14: SettingWithCopyWarning: \n",
            "A value is trying to be set on a copy of a slice from a DataFrame\n",
            "\n",
            "See the caveats in the documentation: https://pandas.pydata.org/pandas-docs/stable/user_guide/indexing.html#returning-a-view-versus-a-copy\n",
            "  \n",
            "/usr/local/lib/python3.7/dist-packages/ipykernel_launcher.py:16: SettingWithCopyWarning: \n",
            "A value is trying to be set on a copy of a slice from a DataFrame\n",
            "\n",
            "See the caveats in the documentation: https://pandas.pydata.org/pandas-docs/stable/user_guide/indexing.html#returning-a-view-versus-a-copy\n",
            "  app.launch_new_instance()\n",
            "/usr/local/lib/python3.7/dist-packages/ipykernel_launcher.py:24: SettingWithCopyWarning: \n",
            "A value is trying to be set on a copy of a slice from a DataFrame\n",
            "\n",
            "See the caveats in the documentation: https://pandas.pydata.org/pandas-docs/stable/user_guide/indexing.html#returning-a-view-versus-a-copy\n",
            "/usr/local/lib/python3.7/dist-packages/ipykernel_launcher.py:25: SettingWithCopyWarning: \n",
            "A value is trying to be set on a copy of a slice from a DataFrame\n",
            "\n",
            "See the caveats in the documentation: https://pandas.pydata.org/pandas-docs/stable/user_guide/indexing.html#returning-a-view-versus-a-copy\n",
            "/usr/local/lib/python3.7/dist-packages/ipykernel_launcher.py:27: SettingWithCopyWarning: \n",
            "A value is trying to be set on a copy of a slice from a DataFrame\n",
            "\n",
            "See the caveats in the documentation: https://pandas.pydata.org/pandas-docs/stable/user_guide/indexing.html#returning-a-view-versus-a-copy\n",
            "/usr/local/lib/python3.7/dist-packages/ipykernel_launcher.py:28: SettingWithCopyWarning: \n",
            "A value is trying to be set on a copy of a slice from a DataFrame\n",
            "\n",
            "See the caveats in the documentation: https://pandas.pydata.org/pandas-docs/stable/user_guide/indexing.html#returning-a-view-versus-a-copy\n",
            "/usr/local/lib/python3.7/dist-packages/ipykernel_launcher.py:30: SettingWithCopyWarning: \n",
            "A value is trying to be set on a copy of a slice from a DataFrame\n",
            "\n",
            "See the caveats in the documentation: https://pandas.pydata.org/pandas-docs/stable/user_guide/indexing.html#returning-a-view-versus-a-copy\n",
            "/usr/local/lib/python3.7/dist-packages/ipykernel_launcher.py:31: SettingWithCopyWarning: \n",
            "A value is trying to be set on a copy of a slice from a DataFrame\n",
            "\n",
            "See the caveats in the documentation: https://pandas.pydata.org/pandas-docs/stable/user_guide/indexing.html#returning-a-view-versus-a-copy\n"
          ]
        }
      ],
      "source": [
        "import pandas as pd\n",
        "dataSet = pd.read_csv(\"/content/gdrive/MyDrive/Colab Notebooks/sxb0600/train.csv\")\n",
        "dataSet.drop('PassengerId',axis=1,inplace=True)\n",
        "dataSet.drop('Name',axis=1,inplace=True)\n",
        "dataSet.drop('Ticket',axis=1,inplace=True)\n",
        "dataSet.drop('Cabin',axis=1,inplace=True)\n",
        "dataSet['Age'].fillna(dataSet['Age'].median(),inplace=True)\n",
        "dataSet['Embarked'].fillna('S',inplace=True)\n",
        "dataSet['Sex_Male'] = 1\n",
        "dataSet['Sex_Female'] = 1 \n",
        "for x in range(len(dataSet)):\n",
        "    Temp_Sex = dataSet['Sex'][x]\n",
        "    if Temp_Sex == \"male\":\n",
        "        dataSet['Sex_Female'][x] = 0 \n",
        "    elif Temp_Sex == \"female\":\n",
        "        dataSet['Sex_Male'][x] = 0\n",
        "dataSet.drop('Sex',axis=1,inplace=True)\n",
        "dataSet['Embarked_S'] = 1\n",
        "dataSet['Embarked_C'] = 1\n",
        "dataSet['Embarked_Q'] = 1\n",
        "for x in range(len(dataSet)):\n",
        "    Temp_Embarked = dataSet['Embarked'][x]\n",
        "    if Temp_Embarked == \"S\":\n",
        "        dataSet['Embarked_C'][x] = 0\n",
        "        dataSet['Embarked_Q'][x] = 0\n",
        "    elif Temp_Embarked == \"C\":\n",
        "        dataSet['Embarked_S'][x] = 0\n",
        "        dataSet['Embarked_Q'][x] = 0\n",
        "    elif Temp_Embarked == \"Q\":\n",
        "        dataSet['Embarked_S'][x] = 0\n",
        "        dataSet['Embarked_C'][x] = 0\n",
        "dataSet.drop('Embarked',axis=1,inplace=True)\n",
        "Train_Features = dataSet.iloc[:,1:].values\n",
        "Train_Label = dataSet['Survived'].values\n",
        "from sklearn.model_selection import train_test_split\n",
        "featureTrain, featureTest, labelTrain, labelTest = train_test_split(Train_Features, Train_Label, test_size=0.5,random_state=123)"
      ]
    },
    {
      "cell_type": "code",
      "execution_count": null,
      "metadata": {
        "id": "prgVTr43pjB7"
      },
      "outputs": [],
      "source": [
        "class TreeNode:\n",
        "    def __init__( self, xfeature=None, minThreshold=None, leftChild=None, rightChild=None, *, info=None ):\n",
        "        self.xfeature = xfeature\n",
        "        self.minThreshold = minThreshold\n",
        "        self.leftChild = leftChild\n",
        "        self.rightChild = rightChild\n",
        "        self.info = info\n",
        "    def isEndNode(self):\n",
        "        return self.info is not None"
      ]
    },
    {
      "cell_type": "code",
      "execution_count": null,
      "metadata": {
        "id": "pwJILiNbpho0"
      },
      "outputs": [],
      "source": [
        "from collections import Counter\n",
        "class DecisionTreeClassifier:\n",
        "    def __init__(self, sampleSplitMinimum=5, maxDepthofTree=10, minSampleEndNode=None, criterion='gini'):\n",
        "        self.default=None\n",
        "        self.sampleSplitMinimum = sampleSplitMinimum\n",
        "        self.maxDepthofTree = maxDepthofTree\n",
        "        self.minSampleEndNode = minSampleEndNode\n",
        "        self.root = self.default\n",
        "    def train(self, xFeatures, yFeatures):\n",
        "        self.minSampleEndNode = xFeatures.shape[1] if not self.minSampleEndNode else min(self.minSampleEndNode, xFeatures.shape[1])\n",
        "        self.root = self.makeTree(xFeatures, yFeatures)\n",
        "    def predict(self, xFeatures):\n",
        "        return np.array([self.printTree(x, self.root) for x in xFeatures])\n",
        "    def makeTree(self, xFeatures, yFeatures, height=0):\n",
        "        uniqueLabels = len(np.unique(yFeatures))\n",
        "        if ( height >= self.maxDepthofTree or uniqueLabels == 1 or xFeatures.shape[0] < self.sampleSplitMinimum ):\n",
        "            counter = Counter(yFeatures)\n",
        "            mostMatching = counter.most_common(1)[0][0] if counter!= Counter() else 0\n",
        "            endLeafNodeValue = mostMatching\n",
        "            return TreeNode(info=endLeafNodeValue)\n",
        "        featIndex = np.random.choice(xFeatures.shape[1], self.minSampleEndNode, replace=False)\n",
        "        maximumGain = -1\n",
        "        splitIndex, splitThreshold = self.default, self.default\n",
        "        for featID in featIndex:\n",
        "            featureCol = xFeatures[:, featID]\n",
        "            thrshold = np.unique(featureCol)\n",
        "            for minThreshold in thrshold:\n",
        "                gain = self.infoGain(yFeatures, featureCol, minThreshold)\n",
        "                if gain > maximumGain:\n",
        "                    maximumGain = gain\n",
        "                    splitIndex = featID\n",
        "                    splitThreshold = minThreshold\n",
        "        maxFeat, maxThresh = splitIndex, splitThreshold\n",
        "        leftChildIdx, rightChildIdx = self.seperate(xFeatures[:, maxFeat], maxThresh)\n",
        "        leftChild = self.makeTree(xFeatures[leftChildIdx, :], yFeatures[leftChildIdx], height + 1)\n",
        "        rightChild = self.makeTree(xFeatures[rightChildIdx, :], yFeatures[rightChildIdx], height + 1)\n",
        "        return TreeNode(maxFeat, maxThresh, leftChild, rightChild)\n",
        "    def infoGain(self, yFeatures, featureCol, minThreshold):\n",
        "        ancestorEntropy = -np.sum([p * np.log2(p) for p in np.bincount(yFeatures) / len(yFeatures) if p > 0])\n",
        "        leftChildIdx, rightChildIdx = self.seperate(featureCol, minThreshold)\n",
        "        if len(leftChildIdx) == 0 or len(rightChildIdx) == 0:\n",
        "            return 0\n",
        "        n = len(yFeatures)\n",
        "        entropyLeftNode = -np.sum([p * np.log2(p) for p in np.bincount(yFeatures[leftChildIdx]) / len(yFeatures[leftChildIdx]) if p > 0])\n",
        "        entropyRightNode = -np.sum([p * np.log2(p) for p in np.bincount(yFeatures[rightChildIdx]) / len(yFeatures[rightChildIdx]) if p > 0])\n",
        "        informationGainCollector = ancestorEntropy - ((len(leftChildIdx) / n) * entropyLeftNode + (len(rightChildIdx) / n) * entropyRightNode)\n",
        "        return informationGainCollector\n",
        "    def seperate(self, featureCol, splitThreshold):\n",
        "        leftChildIdx = np.argwhere(featureCol <= splitThreshold).flatten()\n",
        "        rightChildIdx = np.argwhere(featureCol > splitThreshold).flatten()\n",
        "        return leftChildIdx, rightChildIdx\n",
        "    def printTree(self, x, TreeNode):\n",
        "        if TreeNode.isEndNode():\n",
        "            return TreeNode.info\n",
        "        if x[TreeNode.xfeature] <= TreeNode.minThreshold:\n",
        "            return self.printTree(x, TreeNode.leftChild)\n",
        "        return self.printTree(x, TreeNode.rightChild)"
      ]
    },
    {
      "cell_type": "code",
      "execution_count": null,
      "metadata": {
        "id": "U1sks76ppfyM"
      },
      "outputs": [],
      "source": [
        "from scipy import stats\n",
        "class RandomForestClassifier:\n",
        "    def train(self, xFeatures, yFeatures, minNumberofTree=7, minFeaturesofTree=None, maxDepthofTree=20, maxFeaturesofTree=None, bootstrapofTree=True, random_state=None):\n",
        "        self.default=None\n",
        "        self.minNumberofTree = minNumberofTree\n",
        "        self.minFeaturesofTree = minFeaturesofTree\n",
        "        self.maxDepthofTree = maxDepthofTree\n",
        "        self.maxFeaturesofTree = maxFeaturesofTree\n",
        "        self.bootstrapofTree = bootstrapofTree\n",
        "        self.random_state = random_state\n",
        "        self.decisionTreeList = []\n",
        "        if len(self.decisionTreeList) > 0:\n",
        "            self.decisionTreeList = []\n",
        "        if isinstance(xFeatures, pd.core.frame.DataFrame):\n",
        "            xFeatures = xFeatures.values\n",
        "        if isinstance(yFeatures, pd.core.series.Series):\n",
        "            yFeatures = yFeatures.values\n",
        "        maxNumofBuilt = 0\n",
        "        while maxNumofBuilt < self.minNumberofTree:\n",
        "            classifierDTModel = DecisionTreeClassifier( maxDepthofTree=self.maxDepthofTree, minSampleEndNode=self.maxFeaturesofTree )\n",
        "            numberofRows, _ = xFeatures.shape\n",
        "            if self.minFeaturesofTree is self.default:\n",
        "                sizeofSample = numberofRows\n",
        "            else:\n",
        "                sizeofSample = int(numberofRows*self.minFeaturesofTree)\n",
        "            random_state = self.random_state\n",
        "            np.random.seed(random_state)\n",
        "            choices = np.random.choice(a=numberofRows, size=sizeofSample, replace=self.bootstrapofTree)\n",
        "            classifierDTModel.train(xFeatures[choices],  yFeatures[choices])\n",
        "            self.decisionTreeList.append(classifierDTModel)\n",
        "            maxNumofBuilt += 1\n",
        "            if self.random_state is not self.default:\n",
        "                self.random_state += 1\n",
        "    def predict(self, xFeatures):\n",
        "        yFeatures = []\n",
        "        for ithTree in self.decisionTreeList:\n",
        "            yFeatures.append(ithTree.predict(xFeatures))\n",
        "        yFeatures = np.swapaxes(yFeatures, axis1=0, axis2=1)\n",
        "        modelOutputClasses = stats.mode(yFeatures,axis=1)[0].reshape(-1)\n",
        "        return modelOutputClasses"
      ]
    },
    {
      "cell_type": "code",
      "execution_count": null,
      "metadata": {
        "id": "_KxNvnpfpdwF"
      },
      "outputs": [],
      "source": [
        "class AdaBoost:\n",
        "    def train(self, xFeatures, yFeatures, mValue = 1000, LearnRateV=0.001, ValLearner = None):\n",
        "        self.default=None\n",
        "        self.noOfAlphas = []\n",
        "        self.GMList = []\n",
        "        self.mValue = mValue\n",
        "        self.noOfAlphas = [] \n",
        "        mAlphaValue = 0\n",
        "        for idxM in range(0, mValue):\n",
        "            wiValue = (np.ones(len(yFeatures)) * 1 / len(yFeatures)) if idxM == 0 else wiValue * np.exp(mAlphaValue * (np.not_equal(yFeatures, outputLabels)).astype(int))\n",
        "            gmValue = ValLearner(maxDepthofTree=1)    \n",
        "            gmValue.train(xFeatures, yFeatures)\n",
        "            outputLabels = gmValue.predict(xFeatures)\n",
        "            self.GMList.append(gmValue) \n",
        "            mErrorValue = (sum(wiValue * (np.not_equal(yFeatures, outputLabels)).astype(int)))/sum(wiValue)\n",
        "            mAlphaValue = LearnRateV*np.log((1 - mErrorValue) / mErrorValue)\n",
        "            self.noOfAlphas.append(mAlphaValue)\n",
        "    def predict(self, xFeatures):\n",
        "        weakPredict = pd.DataFrame(index = range(len(xFeatures)), columns = range(self.mValue)) \n",
        "        for idxM in range(self.mValue):\n",
        "            yPredmValue = self.GMList[idxM].predict(xFeatures) * self.noOfAlphas[idxM]\n",
        "            weakPredict.iloc[:,idxM] = yPredmValue\n",
        "        outputLabels = (1 * np.sign(weakPredict.T.sum())).astype(int)\n",
        "        return outputLabels"
      ]
    },
    {
      "cell_type": "code",
      "execution_count": null,
      "metadata": {
        "colab": {
          "base_uri": "https://localhost:8080/"
        },
        "id": "iUn4wpI6pcat",
        "outputId": "3799687f-6ba2-4cd9-ad31-20b6486fd1d2"
      },
      "outputs": [
        {
          "name": "stdout",
          "output_type": "stream",
          "text": [
            "Total Accuracy Decision Tree : 0.78\n"
          ]
        }
      ],
      "source": [
        "classifierDTModel = DecisionTreeClassifier(maxDepthofTree=15)\n",
        "classifierDTModel.train(featureTrain, labelTrain)\n",
        "outputLabels = classifierDTModel.predict(featureTest)\n",
        "modelAccuracy = round(calculateAccuracy(labelTest, outputLabels), 2)\n",
        "print(\"Total Accuracy Decision Tree :\", modelAccuracy)"
      ]
    },
    {
      "cell_type": "code",
      "execution_count": null,
      "metadata": {
        "colab": {
          "base_uri": "https://localhost:8080/"
        },
        "id": "w_qCj4wspbYs",
        "outputId": "9172847b-e3b4-448b-ed4f-db0362c2c04b"
      },
      "outputs": [
        {
          "name": "stdout",
          "output_type": "stream",
          "text": [
            "Total Accuracy Random Forest: 0.82\n"
          ]
        }
      ],
      "source": [
        "classifierDTModel = RandomForestClassifier()\n",
        "classifierDTModel.train(featureTrain, labelTrain, minNumberofTree=30)\n",
        "outputLabels = classifierDTModel.predict(featureTest)\n",
        "modelAccuracy = round(calculateAccuracy(labelTest, outputLabels), 2)\n",
        "print(\"Total Accuracy Random Forest:\", modelAccuracy)"
      ]
    },
    {
      "cell_type": "code",
      "execution_count": null,
      "metadata": {
        "colab": {
          "base_uri": "https://localhost:8080/"
        },
        "id": "p3bSp--_paWE",
        "outputId": "26e548c1-4ea0-4b00-95b0-01e36d440d1a"
      },
      "outputs": [
        {
          "name": "stdout",
          "output_type": "stream",
          "text": [
            "Total Accuracy Ada Boost : 0.55\n"
          ]
        }
      ],
      "source": [
        "classifierDTModel = AdaBoost()\n",
        "classifierDTModel.train(featureTrain, labelTrain, mValue = 10,  LearnRateV=2, ValLearner=DecisionTreeClassifier)\n",
        "outputLabels = classifierDTModel.predict(featureTest)\n",
        "modelAccuracy = round(calculateAccuracy(labelTest, outputLabels), 2)\n",
        "print(\"Total Accuracy Ada Boost :\", modelAccuracy)"
      ]
    }
  ],
  "metadata": {
    "colab": {
      "collapsed_sections": [],
      "provenance": []
    },
    "kernelspec": {
      "display_name": "Python 3",
      "name": "python3"
    },
    "language_info": {
      "name": "python"
    }
  },
  "nbformat": 4,
  "nbformat_minor": 0
}
