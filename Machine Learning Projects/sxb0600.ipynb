{
  "nbformat": 4,
  "nbformat_minor": 0,
  "metadata": {
    "colab": {
      "provenance": []
    },
    "kernelspec": {
      "name": "python3",
      "display_name": "Python 3"
    },
    "language_info": {
      "name": "python"
    }
  },
  "cells": [
    {
      "cell_type": "code",
      "source": [
        "# libraries\n",
        "import numpy as np\n",
        "from sklearn import datasets\n",
        "from matplotlib import pyplot as MPL\n",
        "from sklearn.model_selection import train_test_split\n",
        "from sklearn.metrics import accuracy_score \n",
        "from mlxtend.plotting import plot_decision_regions\n",
        "import pandas as pd"
      ],
      "metadata": {
        "id": "mbDnjr0DjVs-"
      },
      "execution_count": 1,
      "outputs": []
    },
    {
      "cell_type": "code",
      "source": [
        "# master Class\n",
        "class master():\n",
        "    def plot(self,FeaTest, LabTest, Model, title=\"Plotting Results\"):\n",
        "        LabTest_mod = np.array([x[0] for x in LabTest])\n",
        "        plot_decision_regions(X=FeaTest, y=LabTest_mod, clf= Model, legend=2)\n",
        "        MPL.title(title)\n",
        "        MPL.show()"
      ],
      "metadata": {
        "id": "QArNiXStjWyV"
      },
      "execution_count": 2,
      "outputs": []
    },
    {
      "cell_type": "code",
      "source": [
        "# Class Logistic Regression\n",
        "class ClassLogisticRegression(master):\n",
        "    def fit(self, ClassFeatures, ClassLabel):\n",
        "        self.LearnRating, self.NoIterations = 0.001, 10000\n",
        "        self.WeightValueTemp, self.BiasValueTemp = np.zeros(ClassFeatures.shape[1]), 0\n",
        "        self.ClassFeatures, self.ClassLabel = ClassFeatures, ClassLabel\n",
        "        for i in range(self.NoIterations):\n",
        "            TempOne = (1+np.exp(-(self.ClassFeatures.dot(self.WeightValueTemp)+self.BiasValueTemp)))\n",
        "            TempTwo = (1+np.exp(-(self.ClassFeatures.dot(self.WeightValueTemp)+self.BiasValueTemp)))\n",
        "            WeightDev = np.dot(self.ClassFeatures.T, np.reshape(( (1/ TempOne) -self.ClassLabel.T), ClassFeatures.shape[0]))\n",
        "            BiasDev = np.sum(np.reshape(( (1/ TempTwo ) -self.ClassLabel.T), ClassFeatures.shape[0]))/ClassFeatures.shape[0]\n",
        "            self.WeightValueTemp = self.WeightValueTemp - self.LearnRating * WeightDev\n",
        "            self.BiasValueTemp = self.BiasValueTemp - self.LearnRating * BiasDev\n",
        "        return self\n",
        "    def predict(self, ClassFeatures):\n",
        "        return np.where( (1 / (1 + np.exp(-(ClassFeatures.dot(self.WeightValueTemp) + self.BiasValueTemp)))) >0.5, 1, 0)"
      ],
      "metadata": {
        "id": "FtqEvjjyjaG-"
      },
      "execution_count": 3,
      "outputs": []
    },
    {
      "cell_type": "code",
      "source": [
        "# Class Linear Discriminant Analysis\n",
        "class ClassLinearDiscriminantAnalysis(master):\n",
        "    def fit(self, ClassFeatures, ClassLabel):\n",
        "        self.DictPrior, self.DictMeans = dict(), dict()\n",
        "        self.ValueConv = np.cov(ClassFeatures, rowvar=False)\n",
        "        self.classes = np.unique(ClassLabel)\n",
        "        for ClassNameTemp in self.classes:\n",
        "            FeaturesClassWise = ClassFeatures[ClassLabel == ClassNameTemp]\n",
        "            self.DictPrior[ClassNameTemp], self.DictMeans[ClassNameTemp] = FeaturesClassWise.shape[0] / ClassFeatures.shape[0], np.mean(FeaturesClassWise, axis=0)\n",
        "    def predict(self, ClassFeatures):\n",
        "        ListPredictions = list()\n",
        "        for x in ClassFeatures:\n",
        "            TempPostList = list()\n",
        "            ListClasses = self.classes\n",
        "            for ClassNameTemp in ListClasses:\n",
        "                InvCovTemp = np.linalg.inv(self.ValueConv)\n",
        "                TempDifference = x-self.DictMeans[ClassNameTemp]\n",
        "                TempLikeliHoodValue = 0.5*np.log(np.linalg.det(InvCovTemp)) - 0.5*TempDifference.T @ InvCovTemp @ TempDifference\n",
        "                TempValue = np.log(self.DictPrior[ClassNameTemp]) + TempLikeliHoodValue\n",
        "                TempPostList.append(TempValue)\n",
        "            TempPredValue = self.classes[np.argmax(TempPostList)]\n",
        "            ListPredictions.append(TempPredValue)\n",
        "        ArrayPred = np.array(ListPredictions)\n",
        "        return ArrayPred"
      ],
      "metadata": {
        "id": "FWfsqW1Sjdqv"
      },
      "execution_count": 4,
      "outputs": []
    },
    {
      "cell_type": "code",
      "source": [
        "# main function to drive data\n",
        "def ModelTraining(FeaTrain, FeaTest, LabTrain, LabTest):\n",
        "    # model 1\n",
        "    ClassLogisticRegression_Model = ClassLogisticRegression()\n",
        "    ClassLogisticRegression_Model.fit( FeaTrain, LabTrain )\t\n",
        "    L_pred_1 = ClassLogisticRegression_Model.predict( FeaTest )\n",
        "    print(\"Accuracy of Normal Logistic Regression ->\",accuracy_score(LabTest, L_pred_1)) \n",
        "    if FeaTrain.shape[1] == 2:\n",
        "        ClassLogisticRegression_Model.plot(FeaTest, LabTest, ClassLogisticRegression_Model, \"Logistic Regression\")\n",
        "    # model 2\n",
        "    ClassLinearDiscriminantAnalysis_Model = ClassLinearDiscriminantAnalysis()\n",
        "    LabTrain_mod = np.array([x[0] for x in LabTrain])\n",
        "    ClassLinearDiscriminantAnalysis_Model.fit(FeaTrain, LabTrain_mod)\n",
        "    L_pred_2 = ClassLinearDiscriminantAnalysis_Model.predict(FeaTest)\n",
        "    print(\"Accuracy of Linear Discriminant Analysis ->\",accuracy_score(LabTest, L_pred_2)) \n",
        "    if FeaTrain.shape[1] == 2:\n",
        "        ClassLinearDiscriminantAnalysis_Model.plot(FeaTest, LabTest, ClassLinearDiscriminantAnalysis_Model,\"Linear Discriminant Analysis\" )"
      ],
      "metadata": {
        "id": "mhJlHFvpjfaJ"
      },
      "execution_count": 5,
      "outputs": []
    },
    {
      "cell_type": "code",
      "source": [
        "# dataset fetching\n",
        "DataFrameIris = datasets.load_iris()\n",
        "ColumnNames = ['sepal-length', 'sepal-width', 'petal-length', 'petal-width', 'species']\n",
        "AllFeatures = DataFrameIris.data[:100]\n",
        "AllLabels = DataFrameIris.target[:100]\n",
        "OneFeatures, TwoFeatures, OneLabel, TwoLabel = train_test_split(AllFeatures[:50],AllLabels[:50] , random_state=104, test_size=0.10,shuffle=True)\n",
        "ThreeFeatures, FourFeatures, ThreeLabel, FourLabel = train_test_split(AllFeatures[50:100],AllLabels[50:100] , random_state=104, test_size=0.10,shuffle=True)\n",
        "FeaturesTrain = pd.DataFrame(list(OneFeatures) + list(ThreeFeatures), index=None, columns=ColumnNames[:-1])\n",
        "FeaturesTest = pd.DataFrame(list(TwoFeatures) + list(FourFeatures), index=None, columns=ColumnNames[:-1])\n",
        "LabelsTrain = pd.DataFrame(list(OneLabel) + list(ThreeLabel), index=None, columns=ColumnNames[-1:])\n",
        "LabelsTest = pd.DataFrame(list(TwoLabel) + list(FourLabel), index=None, columns=ColumnNames[-1:])"
      ],
      "metadata": {
        "id": "z76IrhNCjjQ4"
      },
      "execution_count": 6,
      "outputs": []
    },
    {
      "cell_type": "code",
      "source": [
        "# Data 1\n",
        "print(\"Case 1 - petal-length & petal-width\")\n",
        "ModelTraining(FeaturesTrain[['petal-length', 'petal-width']].values, FeaturesTest[['petal-length', 'petal-width']].values, LabelsTrain.iloc[:,:].values, LabelsTest.iloc[:,:].values)"
      ],
      "metadata": {
        "colab": {
          "base_uri": "https://localhost:8080/",
          "height": 686
        },
        "id": "Vf03YKvMjlJQ",
        "outputId": "ef278d9f-5015-4bd1-86a3-81785cf0ada5"
      },
      "execution_count": 7,
      "outputs": [
        {
          "output_type": "stream",
          "name": "stdout",
          "text": [
            "Case 1 - petal-length & petal-width\n",
            "Accuracy of Normal Logistic Regression -> 1.0\n"
          ]
        },
        {
          "output_type": "stream",
          "name": "stderr",
          "text": [
            "/usr/local/lib/python3.7/dist-packages/mlxtend/plotting/decision_regions.py:244: MatplotlibDeprecationWarning: Passing unsupported keyword arguments to axis() will raise a TypeError in 3.3.\n",
            "  ax.axis(xmin=xx.min(), xmax=xx.max(), y_min=yy.min(), y_max=yy.max())\n"
          ]
        },
        {
          "output_type": "display_data",
          "data": {
            "text/plain": [
              "<Figure size 432x288 with 1 Axes>"
            ],
            "image/png": "[encoded data removed]"
          },
          "metadata": {
            "needs_background": "light"
          }
        },
        {
          "output_type": "stream",
          "name": "stdout",
          "text": [
            "Accuracy of Linear Discriminant Analysis -> 1.0\n"
          ]
        },
        {
          "output_type": "stream",
          "name": "stderr",
          "text": [
            "/usr/local/lib/python3.7/dist-packages/mlxtend/plotting/decision_regions.py:244: MatplotlibDeprecationWarning: Passing unsupported keyword arguments to axis() will raise a TypeError in 3.3.\n",
            "  ax.axis(xmin=xx.min(), xmax=xx.max(), y_min=yy.min(), y_max=yy.max())\n"
          ]
        },
        {
          "output_type": "display_data",
          "data": {
            "text/plain": [
              "<Figure size 432x288 with 1 Axes>"
            ],
            "image/png": "[encoded data removed]"
          },
          "metadata": {
            "needs_background": "light"
          }
        }
      ]
    },
    {
      "cell_type": "code",
      "source": [
        "# Data 2\n",
        "print(\"Case 2 - sepal-length & sepal-width\")\n",
        "ModelTraining(FeaturesTrain[['sepal-length', 'sepal-width']].values, FeaturesTest[['sepal-length', 'sepal-width']].values, LabelsTrain.iloc[:,:].values, LabelsTest.iloc[:,:].values)"
      ],
      "metadata": {
        "colab": {
          "base_uri": "https://localhost:8080/",
          "height": 686
        },
        "id": "ZiPa8NVQjmX3",
        "outputId": "15a08f7d-4a20-4165-c6c0-fb20237240f1"
      },
      "execution_count": 8,
      "outputs": [
        {
          "output_type": "stream",
          "name": "stdout",
          "text": [
            "Case 2 - sepal-length & sepal-width\n",
            "Accuracy of Normal Logistic Regression -> 1.0\n"
          ]
        },
        {
          "output_type": "stream",
          "name": "stderr",
          "text": [
            "/usr/local/lib/python3.7/dist-packages/mlxtend/plotting/decision_regions.py:244: MatplotlibDeprecationWarning: Passing unsupported keyword arguments to axis() will raise a TypeError in 3.3.\n",
            "  ax.axis(xmin=xx.min(), xmax=xx.max(), y_min=yy.min(), y_max=yy.max())\n"
          ]
        },
        {
          "output_type": "display_data",
          "data": {
            "text/plain": [
              "<Figure size 432x288 with 1 Axes>"
            ],
            "image/png": "[encoded data removed]"
          },
          "metadata": {
            "needs_background": "light"
          }
        },
        {
          "output_type": "stream",
          "name": "stdout",
          "text": [
            "Accuracy of Linear Discriminant Analysis -> 1.0\n"
          ]
        },
        {
          "output_type": "stream",
          "name": "stderr",
          "text": [
            "/usr/local/lib/python3.7/dist-packages/mlxtend/plotting/decision_regions.py:244: MatplotlibDeprecationWarning: Passing unsupported keyword arguments to axis() will raise a TypeError in 3.3.\n",
            "  ax.axis(xmin=xx.min(), xmax=xx.max(), y_min=yy.min(), y_max=yy.max())\n"
          ]
        },
        {
          "output_type": "display_data",
          "data": {
            "text/plain": [
              "<Figure size 432x288 with 1 Axes>"
            ],
            "image/png": "[encoded data removed]"
          },
          "metadata": {
            "needs_background": "light"
          }
        }
      ]
    },
    {
      "cell_type": "code",
      "execution_count": 9,
      "metadata": {
        "colab": {
          "base_uri": "https://localhost:8080/"
        },
        "id": "KOQA9nUBjPoj",
        "outputId": "79c10438-585f-4b2c-fe68-5a316952b802"
      },
      "outputs": [
        {
          "output_type": "stream",
          "name": "stdout",
          "text": [
            "Case 3 - All Features\n",
            "Accuracy of Normal Logistic Regression -> 1.0\n",
            "Accuracy of Linear Discriminant Analysis -> 1.0\n"
          ]
        }
      ],
      "source": [
        "# Data 3\n",
        "print(\"Case 3 - All Features\")\n",
        "ModelTraining(FeaturesTrain.iloc[:,:].values, FeaturesTest.iloc[:,:].values, LabelsTrain.iloc[:,:].values, LabelsTest.iloc[:,:].values)"
      ]
    }
  ]
}